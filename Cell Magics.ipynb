{
 "cells": [
  {
   "cell_type": "markdown",
   "metadata": {},
   "source": [
    "#  Simple notebook to run fashion MNIST on TensorFlow 1.X.\n",
    "\n",
    "## How to start Session\n",
    "\n","\n",
    "<div>\n<img src=\"https://user-images.githubusercontent.com/42667951/93175878-54884700-f76b-11ea-928f-d86a92cc5509.png\" width=700></div>\n",
    "\n",
    "First, click the `Sessions` menu  in the navigation bar on the left. Click the `Start` button in the upper right corner to create a new session.\n",
    "\n",
    "<div>\n<img src=\"https://user-images.githubusercontent.com/42667951/93179383-91a30800-f770-11ea-88cd-9b2148ae2648.png\" width=300></div>\n",
    "\n",
    "Then you will see the following screen: Select **TensorFlow** for `Environments` and **1.15/ Python 3.6 / CUDA10** for `Version`. After that click `LAUNCH`\n",
    "\n",
    "<div>\n<img src=\"https://user-images.githubusercontent.com/42667951/93179627-e6468300-f770-11ea-8d55-455bc8c106e0.png\" width=700></div>\n",
    "\n",
    "If you launch the session, you can see this screen. Click `Jupyter Notebook`.\n",
    "\n",
    "Now, you can use Jupyter Notebook. You can create a new notebook in the `Tensorflow 1.15.3 on Python 3.6 (CUDA 10.0)` environment."
   ]
  },
  {
   "cell_type": "code",
   "execution_count": null,
   "metadata": {},
   "outputs": [],
   "source": []
  }
 ],
 "metadata": {
  "kernelspec": {
   "display_name": "TensorFlow 1.15.3 on Python 3.6 (CUDA 10.0)",
   "language": "python",
   "name": "python3"
  },
  "language_info": {
   "codemirror_mode": {
    "name": "ipython",
    "version": 3
   },
   "file_extension": ".py",
   "mimetype": "text/x-python",
   "name": "python",
   "nbconvert_exporter": "python",
   "pygments_lexer": "ipython3",
   "version": "3.6.9"
  }
 },
 "nbformat": 4,
 "nbformat_minor": 4
}
